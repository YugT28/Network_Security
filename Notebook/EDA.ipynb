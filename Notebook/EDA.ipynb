{
 "cells": [
  {
   "cell_type": "code",
   "id": "initial_id",
   "metadata": {
    "collapsed": true,
    "ExecuteTime": {
     "end_time": "2024-08-24T04:53:58.810699Z",
     "start_time": "2024-08-24T04:53:58.807430Z"
    }
   },
   "source": "import os",
   "execution_count": 3,
   "outputs": []
  },
  {
   "metadata": {
    "ExecuteTime": {
     "end_time": "2024-08-25T13:54:52.404677Z",
     "start_time": "2024-08-25T13:54:52.391177Z"
    }
   },
   "cell_type": "code",
   "source": [
    "import pandas as pd\n",
    "import matplotlib"
   ],
   "id": "dcfdde5e7eab21c0",
   "execution_count": 26,
   "outputs": []
  },
  {
   "metadata": {
    "ExecuteTime": {
     "end_time": "2024-08-25T13:51:19.966154Z",
     "start_time": "2024-08-25T13:51:19.921257Z"
    }
   },
   "cell_type": "code",
   "source": "df=pd.read_csv(r\"../Network_Data/NetworkData.csv\")",
   "id": "c2c561c85c1cf6c9",
   "execution_count": 13,
   "outputs": []
  },
  {
   "metadata": {
    "ExecuteTime": {
     "end_time": "2024-08-25T13:51:21.816721Z",
     "start_time": "2024-08-25T13:51:21.812333Z"
    }
   },
   "cell_type": "code",
   "source": "df.columns",
   "id": "68b11ceba432b75f",
   "execution_count": 14,
   "outputs": []
  },
  {
   "metadata": {
    "ExecuteTime": {
     "end_time": "2024-08-25T13:51:27.515384Z",
     "start_time": "2024-08-25T13:51:27.500468Z"
    }
   },
   "cell_type": "code",
   "source": "df",
   "id": "4e285cbdb71c29e4",
   "execution_count": 15,
   "outputs": []
  },
  {
   "metadata": {
    "ExecuteTime": {
     "end_time": "2024-08-25T13:53:58.388096Z",
     "start_time": "2024-08-25T13:53:58.304954Z"
    }
   },
   "cell_type": "code",
   "source": [
    "for i in df.columns:\n",
    "    df[i].plot()"
   ],
   "id": "a30605e06b5fe095",
   "execution_count": 20,
   "outputs": []
  },
  {
   "metadata": {
    "ExecuteTime": {
     "end_time": "2024-08-24T16:42:52.956437Z",
     "start_time": "2024-08-24T16:42:52.940569Z"
    }
   },
   "cell_type": "code",
   "source": [
    "from pathlib import Path\n",
    "x=Path('Artifact\\\\08_24_2024_22_04_03\\\\data_ingestion\\\\feature_store\\\\NetworkData.csv')\n",
    "x.mkdir(parents=True)"
   ],
   "id": "b49bb63add3b9179",
   "execution_count": 2,
   "outputs": []
  },
  {
   "metadata": {
    "ExecuteTime": {
     "end_time": "2024-08-25T12:01:12.199075Z",
     "start_time": "2024-08-25T12:01:12.184095Z"
    }
   },
   "cell_type": "code",
   "source": [
    "import yaml\n",
    "\n",
    "with open(r\"C:\\Users\\sunny\\Documents\\Network_Security\\data_schema\\schema.yaml\",'rb') as f:\n",
    "    print(yaml.safe_load(f)['columns'])"
   ],
   "id": "f69c30ef63d39be5",
   "execution_count": 5,
   "outputs": []
  },
  {
   "metadata": {
    "ExecuteTime": {
     "end_time": "2024-08-25T13:03:25.965986Z",
     "start_time": "2024-08-25T13:03:25.958179Z"
    }
   },
   "cell_type": "code",
   "source": [
    "from pathlib import Path\n",
    "x = Path(\"ok/bj\").parent\n",
    "x"
   ],
   "id": "6c3300fb70def595",
   "execution_count": 9,
   "outputs": []
  },
  {
   "metadata": {
    "ExecuteTime": {
     "end_time": "2024-08-30T05:06:22.686828Z",
     "start_time": "2024-08-30T05:06:22.667451Z"
    }
   },
   "cell_type": "code",
   "source": [
    "import numpy as np\n",
    "np.c_([10])"
   ],
   "id": "ce51e43b107babdb",
   "execution_count": 13,
   "outputs": []
  },
  {
   "metadata": {
    "ExecuteTime": {
     "end_time": "2024-08-30T14:21:25.306877Z",
     "start_time": "2024-08-30T14:21:25.303898Z"
    }
   },
   "cell_type": "code",
   "source": [
    "from pathlib import Path\n",
    "cwd=Path(r\"C:\\Users\\sunny\\OneDrive\\Documents\\Network_Security\\Artifact\")"
   ],
   "id": "105f4ed9a1cc6c02",
   "execution_count": 10,
   "outputs": []
  },
  {
   "metadata": {
    "ExecuteTime": {
     "end_time": "2024-08-30T14:23:40.582653Z",
     "start_time": "2024-08-30T14:23:40.552128Z"
    }
   },
   "cell_type": "code",
   "source": "list(map(int(i.name),cwd.iterdir()))\n",
   "id": "1b1a7d66be24bab3",
   "execution_count": 25,
   "outputs": []
  },
  {
   "metadata": {
    "ExecuteTime": {
     "end_time": "2024-08-30T14:24:18.767150Z",
     "start_time": "2024-08-30T14:24:18.760255Z"
    }
   },
   "cell_type": "code",
   "source": [
    "for i in cwd.iterdir():\n",
    "    print(int(i.name))"
   ],
   "id": "f82d061d4ac4986b",
   "execution_count": 27,
   "outputs": []
  },
  {
   "metadata": {
    "ExecuteTime": {
     "end_time": "2024-09-26T18:47:23.897909Z",
     "start_time": "2024-09-26T18:47:23.894178Z"
    }
   },
   "cell_type": "code",
   "source": [
    "with open(r'C:\\Users\\sunny\\OneDrive\\Documents\\Network_Security\\saved_models\\1727369546\\model.pkl\\model.pkl','rb') as f:\n",
    "    print(f)\n",
    "    "
   ],
   "id": "2c58958f0f21de00",
   "outputs": [
    {
     "name": "stdout",
     "output_type": "stream",
     "text": [
      "<_io.BufferedReader name='C:\\\\Users\\\\sunny\\\\OneDrive\\\\Documents\\\\Network_Security\\\\saved_models\\\\1727369546\\\\model.pkl\\\\model.pkl'>\n"
     ]
    }
   ],
   "execution_count": 4
  },
  {
   "metadata": {
    "ExecuteTime": {
     "end_time": "2024-09-27T12:28:02.421297Z",
     "start_time": "2024-09-27T12:27:59.623760Z"
    }
   },
   "cell_type": "code",
   "source": "import pandas as pd\n",
   "id": "fcb8e1cbea50a9e",
   "outputs": [],
   "execution_count": 1
  },
  {
   "metadata": {
    "ExecuteTime": {
     "end_time": "2024-09-27T12:32:02.762312Z",
     "start_time": "2024-09-27T12:32:02.755582Z"
    }
   },
   "cell_type": "code",
   "source": [
    "x=[1,2,3,4]\n",
    "y=[3,4,4]"
   ],
   "id": "1df889a2ef567b51",
   "outputs": [],
   "execution_count": 24
  },
  {
   "metadata": {
    "ExecuteTime": {
     "end_time": "2024-09-27T12:32:03.892644Z",
     "start_time": "2024-09-27T12:32:03.877684Z"
    }
   },
   "cell_type": "code",
   "source": [
    "x=pd.DataFrame(x)\n",
    "y=pd.DataFrame(y)"
   ],
   "id": "be487e548ff231f3",
   "outputs": [],
   "execution_count": 25
  },
  {
   "metadata": {
    "ExecuteTime": {
     "end_time": "2024-09-27T12:36:13.224194Z",
     "start_time": "2024-09-27T12:36:12.609263Z"
    }
   },
   "cell_type": "code",
   "source": "pd.merge(left=x,right=y,how='x>y')",
   "id": "97087550833db51a",
   "outputs": [
    {
     "ename": "ValueError",
     "evalue": "do not recognize join method x>y",
     "output_type": "error",
     "traceback": [
      "\u001B[1;31m---------------------------------------------------------------------------\u001B[0m",
      "\u001B[1;31mValueError\u001B[0m                                Traceback (most recent call last)",
      "Cell \u001B[1;32mIn[31], line 1\u001B[0m\n\u001B[1;32m----> 1\u001B[0m \u001B[43mpd\u001B[49m\u001B[38;5;241;43m.\u001B[39;49m\u001B[43mmerge\u001B[49m\u001B[43m(\u001B[49m\u001B[43mleft\u001B[49m\u001B[38;5;241;43m=\u001B[39;49m\u001B[43mx\u001B[49m\u001B[43m,\u001B[49m\u001B[43mright\u001B[49m\u001B[38;5;241;43m=\u001B[39;49m\u001B[43my\u001B[49m\u001B[43m,\u001B[49m\u001B[43mhow\u001B[49m\u001B[38;5;241;43m=\u001B[39;49m\u001B[38;5;124;43m'\u001B[39;49m\u001B[38;5;124;43mx>y\u001B[39;49m\u001B[38;5;124;43m'\u001B[39;49m\u001B[43m)\u001B[49m\n",
      "File \u001B[1;32m~\\PycharmProjects\\Pandas\\.venv\\Lib\\site-packages\\pandas\\core\\reshape\\merge.py:184\u001B[0m, in \u001B[0;36mmerge\u001B[1;34m(left, right, how, on, left_on, right_on, left_index, right_index, sort, suffixes, copy, indicator, validate)\u001B[0m\n\u001B[0;32m    169\u001B[0m \u001B[38;5;28;01melse\u001B[39;00m:\n\u001B[0;32m    170\u001B[0m     op \u001B[38;5;241m=\u001B[39m _MergeOperation(\n\u001B[0;32m    171\u001B[0m         left_df,\n\u001B[0;32m    172\u001B[0m         right_df,\n\u001B[1;32m   (...)\u001B[0m\n\u001B[0;32m    182\u001B[0m         validate\u001B[38;5;241m=\u001B[39mvalidate,\n\u001B[0;32m    183\u001B[0m     )\n\u001B[1;32m--> 184\u001B[0m     \u001B[38;5;28;01mreturn\u001B[39;00m \u001B[43mop\u001B[49m\u001B[38;5;241;43m.\u001B[39;49m\u001B[43mget_result\u001B[49m\u001B[43m(\u001B[49m\u001B[43mcopy\u001B[49m\u001B[38;5;241;43m=\u001B[39;49m\u001B[43mcopy\u001B[49m\u001B[43m)\u001B[49m\n",
      "File \u001B[1;32m~\\PycharmProjects\\Pandas\\.venv\\Lib\\site-packages\\pandas\\core\\reshape\\merge.py:886\u001B[0m, in \u001B[0;36m_MergeOperation.get_result\u001B[1;34m(self, copy)\u001B[0m\n\u001B[0;32m    883\u001B[0m \u001B[38;5;28;01mif\u001B[39;00m \u001B[38;5;28mself\u001B[39m\u001B[38;5;241m.\u001B[39mindicator:\n\u001B[0;32m    884\u001B[0m     \u001B[38;5;28mself\u001B[39m\u001B[38;5;241m.\u001B[39mleft, \u001B[38;5;28mself\u001B[39m\u001B[38;5;241m.\u001B[39mright \u001B[38;5;241m=\u001B[39m \u001B[38;5;28mself\u001B[39m\u001B[38;5;241m.\u001B[39m_indicator_pre_merge(\u001B[38;5;28mself\u001B[39m\u001B[38;5;241m.\u001B[39mleft, \u001B[38;5;28mself\u001B[39m\u001B[38;5;241m.\u001B[39mright)\n\u001B[1;32m--> 886\u001B[0m join_index, left_indexer, right_indexer \u001B[38;5;241m=\u001B[39m \u001B[38;5;28;43mself\u001B[39;49m\u001B[38;5;241;43m.\u001B[39;49m\u001B[43m_get_join_info\u001B[49m\u001B[43m(\u001B[49m\u001B[43m)\u001B[49m\n\u001B[0;32m    888\u001B[0m result \u001B[38;5;241m=\u001B[39m \u001B[38;5;28mself\u001B[39m\u001B[38;5;241m.\u001B[39m_reindex_and_concat(\n\u001B[0;32m    889\u001B[0m     join_index, left_indexer, right_indexer, copy\u001B[38;5;241m=\u001B[39mcopy\n\u001B[0;32m    890\u001B[0m )\n\u001B[0;32m    891\u001B[0m result \u001B[38;5;241m=\u001B[39m result\u001B[38;5;241m.\u001B[39m__finalize__(\u001B[38;5;28mself\u001B[39m, method\u001B[38;5;241m=\u001B[39m\u001B[38;5;28mself\u001B[39m\u001B[38;5;241m.\u001B[39m_merge_type)\n",
      "File \u001B[1;32m~\\PycharmProjects\\Pandas\\.venv\\Lib\\site-packages\\pandas\\core\\reshape\\merge.py:1151\u001B[0m, in \u001B[0;36m_MergeOperation._get_join_info\u001B[1;34m(self)\u001B[0m\n\u001B[0;32m   1147\u001B[0m     join_index, right_indexer, left_indexer \u001B[38;5;241m=\u001B[39m _left_join_on_index(\n\u001B[0;32m   1148\u001B[0m         right_ax, left_ax, \u001B[38;5;28mself\u001B[39m\u001B[38;5;241m.\u001B[39mright_join_keys, sort\u001B[38;5;241m=\u001B[39m\u001B[38;5;28mself\u001B[39m\u001B[38;5;241m.\u001B[39msort\n\u001B[0;32m   1149\u001B[0m     )\n\u001B[0;32m   1150\u001B[0m \u001B[38;5;28;01melse\u001B[39;00m:\n\u001B[1;32m-> 1151\u001B[0m     (left_indexer, right_indexer) \u001B[38;5;241m=\u001B[39m \u001B[38;5;28;43mself\u001B[39;49m\u001B[38;5;241;43m.\u001B[39;49m\u001B[43m_get_join_indexers\u001B[49m\u001B[43m(\u001B[49m\u001B[43m)\u001B[49m\n\u001B[0;32m   1153\u001B[0m     \u001B[38;5;28;01mif\u001B[39;00m \u001B[38;5;28mself\u001B[39m\u001B[38;5;241m.\u001B[39mright_index:\n\u001B[0;32m   1154\u001B[0m         \u001B[38;5;28;01mif\u001B[39;00m \u001B[38;5;28mlen\u001B[39m(\u001B[38;5;28mself\u001B[39m\u001B[38;5;241m.\u001B[39mleft) \u001B[38;5;241m>\u001B[39m \u001B[38;5;241m0\u001B[39m:\n",
      "File \u001B[1;32m~\\PycharmProjects\\Pandas\\.venv\\Lib\\site-packages\\pandas\\core\\reshape\\merge.py:1125\u001B[0m, in \u001B[0;36m_MergeOperation._get_join_indexers\u001B[1;34m(self)\u001B[0m\n\u001B[0;32m   1123\u001B[0m \u001B[38;5;66;03m# make mypy happy\u001B[39;00m\n\u001B[0;32m   1124\u001B[0m \u001B[38;5;28;01massert\u001B[39;00m \u001B[38;5;28mself\u001B[39m\u001B[38;5;241m.\u001B[39mhow \u001B[38;5;241m!=\u001B[39m \u001B[38;5;124m\"\u001B[39m\u001B[38;5;124masof\u001B[39m\u001B[38;5;124m\"\u001B[39m\n\u001B[1;32m-> 1125\u001B[0m \u001B[38;5;28;01mreturn\u001B[39;00m \u001B[43mget_join_indexers\u001B[49m\u001B[43m(\u001B[49m\n\u001B[0;32m   1126\u001B[0m \u001B[43m    \u001B[49m\u001B[38;5;28;43mself\u001B[39;49m\u001B[38;5;241;43m.\u001B[39;49m\u001B[43mleft_join_keys\u001B[49m\u001B[43m,\u001B[49m\u001B[43m \u001B[49m\u001B[38;5;28;43mself\u001B[39;49m\u001B[38;5;241;43m.\u001B[39;49m\u001B[43mright_join_keys\u001B[49m\u001B[43m,\u001B[49m\u001B[43m \u001B[49m\u001B[43msort\u001B[49m\u001B[38;5;241;43m=\u001B[39;49m\u001B[38;5;28;43mself\u001B[39;49m\u001B[38;5;241;43m.\u001B[39;49m\u001B[43msort\u001B[49m\u001B[43m,\u001B[49m\u001B[43m \u001B[49m\u001B[43mhow\u001B[49m\u001B[38;5;241;43m=\u001B[39;49m\u001B[38;5;28;43mself\u001B[39;49m\u001B[38;5;241;43m.\u001B[39;49m\u001B[43mhow\u001B[49m\n\u001B[0;32m   1127\u001B[0m \u001B[43m\u001B[49m\u001B[43m)\u001B[49m\n",
      "File \u001B[1;32m~\\PycharmProjects\\Pandas\\.venv\\Lib\\site-packages\\pandas\\core\\reshape\\merge.py:1757\u001B[0m, in \u001B[0;36mget_join_indexers\u001B[1;34m(left_keys, right_keys, sort, how)\u001B[0m\n\u001B[0;32m   1750\u001B[0m right \u001B[38;5;241m=\u001B[39m Index(rkey)\n\u001B[0;32m   1752\u001B[0m \u001B[38;5;28;01mif\u001B[39;00m (\n\u001B[0;32m   1753\u001B[0m     left\u001B[38;5;241m.\u001B[39mis_monotonic_increasing\n\u001B[0;32m   1754\u001B[0m     \u001B[38;5;129;01mand\u001B[39;00m right\u001B[38;5;241m.\u001B[39mis_monotonic_increasing\n\u001B[0;32m   1755\u001B[0m     \u001B[38;5;129;01mand\u001B[39;00m (left\u001B[38;5;241m.\u001B[39mis_unique \u001B[38;5;129;01mor\u001B[39;00m right\u001B[38;5;241m.\u001B[39mis_unique)\n\u001B[0;32m   1756\u001B[0m ):\n\u001B[1;32m-> 1757\u001B[0m     _, lidx, ridx \u001B[38;5;241m=\u001B[39m \u001B[43mleft\u001B[49m\u001B[38;5;241;43m.\u001B[39;49m\u001B[43mjoin\u001B[49m\u001B[43m(\u001B[49m\u001B[43mright\u001B[49m\u001B[43m,\u001B[49m\u001B[43m \u001B[49m\u001B[43mhow\u001B[49m\u001B[38;5;241;43m=\u001B[39;49m\u001B[43mhow\u001B[49m\u001B[43m,\u001B[49m\u001B[43m \u001B[49m\u001B[43mreturn_indexers\u001B[49m\u001B[38;5;241;43m=\u001B[39;49m\u001B[38;5;28;43;01mTrue\u001B[39;49;00m\u001B[43m,\u001B[49m\u001B[43m \u001B[49m\u001B[43msort\u001B[49m\u001B[38;5;241;43m=\u001B[39;49m\u001B[43msort\u001B[49m\u001B[43m)\u001B[49m\n\u001B[0;32m   1758\u001B[0m \u001B[38;5;28;01melse\u001B[39;00m:\n\u001B[0;32m   1759\u001B[0m     lidx, ridx \u001B[38;5;241m=\u001B[39m get_join_indexers_non_unique(\n\u001B[0;32m   1760\u001B[0m         left\u001B[38;5;241m.\u001B[39m_values, right\u001B[38;5;241m.\u001B[39m_values, sort, how\n\u001B[0;32m   1761\u001B[0m     )\n",
      "File \u001B[1;32m~\\PycharmProjects\\Pandas\\.venv\\Lib\\site-packages\\pandas\\core\\indexes\\base.py:279\u001B[0m, in \u001B[0;36m_maybe_return_indexers.<locals>.join\u001B[1;34m(self, other, how, level, return_indexers, sort)\u001B[0m\n\u001B[0;32m    269\u001B[0m \u001B[38;5;129m@functools\u001B[39m\u001B[38;5;241m.\u001B[39mwraps(meth)\n\u001B[0;32m    270\u001B[0m \u001B[38;5;28;01mdef\u001B[39;00m \u001B[38;5;21mjoin\u001B[39m(\n\u001B[0;32m    271\u001B[0m     \u001B[38;5;28mself\u001B[39m,\n\u001B[1;32m   (...)\u001B[0m\n\u001B[0;32m    277\u001B[0m     sort: \u001B[38;5;28mbool\u001B[39m \u001B[38;5;241m=\u001B[39m \u001B[38;5;28;01mFalse\u001B[39;00m,\n\u001B[0;32m    278\u001B[0m ):\n\u001B[1;32m--> 279\u001B[0m     join_index, lidx, ridx \u001B[38;5;241m=\u001B[39m \u001B[43mmeth\u001B[49m\u001B[43m(\u001B[49m\u001B[38;5;28;43mself\u001B[39;49m\u001B[43m,\u001B[49m\u001B[43m \u001B[49m\u001B[43mother\u001B[49m\u001B[43m,\u001B[49m\u001B[43m \u001B[49m\u001B[43mhow\u001B[49m\u001B[38;5;241;43m=\u001B[39;49m\u001B[43mhow\u001B[49m\u001B[43m,\u001B[49m\u001B[43m \u001B[49m\u001B[43mlevel\u001B[49m\u001B[38;5;241;43m=\u001B[39;49m\u001B[43mlevel\u001B[49m\u001B[43m,\u001B[49m\u001B[43m \u001B[49m\u001B[43msort\u001B[49m\u001B[38;5;241;43m=\u001B[39;49m\u001B[43msort\u001B[49m\u001B[43m)\u001B[49m\n\u001B[0;32m    280\u001B[0m     \u001B[38;5;28;01mif\u001B[39;00m \u001B[38;5;129;01mnot\u001B[39;00m return_indexers:\n\u001B[0;32m    281\u001B[0m         \u001B[38;5;28;01mreturn\u001B[39;00m join_index\n",
      "File \u001B[1;32m~\\PycharmProjects\\Pandas\\.venv\\Lib\\site-packages\\pandas\\core\\indexes\\base.py:4642\u001B[0m, in \u001B[0;36mIndex.join\u001B[1;34m(self, other, how, level, return_indexers, sort)\u001B[0m\n\u001B[0;32m   4633\u001B[0m \u001B[38;5;28;01melif\u001B[39;00m (\n\u001B[0;32m   4634\u001B[0m     \u001B[38;5;28misinstance\u001B[39m(\u001B[38;5;28mself\u001B[39m, ABCCategoricalIndex)\n\u001B[0;32m   4635\u001B[0m     \u001B[38;5;129;01mand\u001B[39;00m \u001B[38;5;28misinstance\u001B[39m(other, ABCCategoricalIndex)\n\u001B[1;32m   (...)\u001B[0m\n\u001B[0;32m   4638\u001B[0m ):\n\u001B[0;32m   4639\u001B[0m     \u001B[38;5;66;03m# dtypes are \"equal\" but categories are in different order\u001B[39;00m\n\u001B[0;32m   4640\u001B[0m     other \u001B[38;5;241m=\u001B[39m Index(other\u001B[38;5;241m.\u001B[39m_values\u001B[38;5;241m.\u001B[39mreorder_categories(\u001B[38;5;28mself\u001B[39m\u001B[38;5;241m.\u001B[39mcategories))\n\u001B[1;32m-> 4642\u001B[0m \u001B[43m_validate_join_method\u001B[49m\u001B[43m(\u001B[49m\u001B[43mhow\u001B[49m\u001B[43m)\u001B[49m\n\u001B[0;32m   4644\u001B[0m \u001B[38;5;28;01mif\u001B[39;00m (\n\u001B[0;32m   4645\u001B[0m     \u001B[38;5;28mself\u001B[39m\u001B[38;5;241m.\u001B[39mis_monotonic_increasing\n\u001B[0;32m   4646\u001B[0m     \u001B[38;5;129;01mand\u001B[39;00m other\u001B[38;5;241m.\u001B[39mis_monotonic_increasing\n\u001B[1;32m   (...)\u001B[0m\n\u001B[0;32m   4649\u001B[0m     \u001B[38;5;129;01mand\u001B[39;00m (\u001B[38;5;28mself\u001B[39m\u001B[38;5;241m.\u001B[39mis_unique \u001B[38;5;129;01mor\u001B[39;00m other\u001B[38;5;241m.\u001B[39mis_unique)\n\u001B[0;32m   4650\u001B[0m ):\n\u001B[0;32m   4651\u001B[0m     \u001B[38;5;28;01mtry\u001B[39;00m:\n",
      "File \u001B[1;32m~\\PycharmProjects\\Pandas\\.venv\\Lib\\site-packages\\pandas\\core\\indexes\\base.py:7685\u001B[0m, in \u001B[0;36m_validate_join_method\u001B[1;34m(method)\u001B[0m\n\u001B[0;32m   7683\u001B[0m \u001B[38;5;28;01mdef\u001B[39;00m \u001B[38;5;21m_validate_join_method\u001B[39m(method: \u001B[38;5;28mstr\u001B[39m) \u001B[38;5;241m-\u001B[39m\u001B[38;5;241m>\u001B[39m \u001B[38;5;28;01mNone\u001B[39;00m:\n\u001B[0;32m   7684\u001B[0m     \u001B[38;5;28;01mif\u001B[39;00m method \u001B[38;5;129;01mnot\u001B[39;00m \u001B[38;5;129;01min\u001B[39;00m [\u001B[38;5;124m\"\u001B[39m\u001B[38;5;124mleft\u001B[39m\u001B[38;5;124m\"\u001B[39m, \u001B[38;5;124m\"\u001B[39m\u001B[38;5;124mright\u001B[39m\u001B[38;5;124m\"\u001B[39m, \u001B[38;5;124m\"\u001B[39m\u001B[38;5;124minner\u001B[39m\u001B[38;5;124m\"\u001B[39m, \u001B[38;5;124m\"\u001B[39m\u001B[38;5;124mouter\u001B[39m\u001B[38;5;124m\"\u001B[39m]:\n\u001B[1;32m-> 7685\u001B[0m         \u001B[38;5;28;01mraise\u001B[39;00m \u001B[38;5;167;01mValueError\u001B[39;00m(\u001B[38;5;124mf\u001B[39m\u001B[38;5;124m\"\u001B[39m\u001B[38;5;124mdo not recognize join method \u001B[39m\u001B[38;5;132;01m{\u001B[39;00mmethod\u001B[38;5;132;01m}\u001B[39;00m\u001B[38;5;124m\"\u001B[39m)\n",
      "\u001B[1;31mValueError\u001B[0m: do not recognize join method x>y"
     ]
    }
   ],
   "execution_count": 31
  },
  {
   "metadata": {
    "ExecuteTime": {
     "end_time": "2024-09-27T12:32:20.199542Z",
     "start_time": "2024-09-27T12:32:20.193952Z"
    }
   },
   "cell_type": "code",
   "source": "y",
   "id": "8c3a84c12b68af8b",
   "outputs": [
    {
     "data": {
      "text/plain": [
       "   0\n",
       "0  3\n",
       "1  4\n",
       "2  4"
      ],
      "text/html": [
       "<div>\n",
       "<style scoped>\n",
       "    .dataframe tbody tr th:only-of-type {\n",
       "        vertical-align: middle;\n",
       "    }\n",
       "\n",
       "    .dataframe tbody tr th {\n",
       "        vertical-align: top;\n",
       "    }\n",
       "\n",
       "    .dataframe thead th {\n",
       "        text-align: right;\n",
       "    }\n",
       "</style>\n",
       "<table border=\"1\" class=\"dataframe\">\n",
       "  <thead>\n",
       "    <tr style=\"text-align: right;\">\n",
       "      <th></th>\n",
       "      <th>0</th>\n",
       "    </tr>\n",
       "  </thead>\n",
       "  <tbody>\n",
       "    <tr>\n",
       "      <th>0</th>\n",
       "      <td>3</td>\n",
       "    </tr>\n",
       "    <tr>\n",
       "      <th>1</th>\n",
       "      <td>4</td>\n",
       "    </tr>\n",
       "    <tr>\n",
       "      <th>2</th>\n",
       "      <td>4</td>\n",
       "    </tr>\n",
       "  </tbody>\n",
       "</table>\n",
       "</div>"
      ]
     },
     "execution_count": 27,
     "metadata": {},
     "output_type": "execute_result"
    }
   ],
   "execution_count": 27
  }
 ],
 "metadata": {
  "kernelspec": {
   "display_name": "Python 3",
   "language": "python",
   "name": "python3"
  },
  "language_info": {
   "codemirror_mode": {
    "name": "ipython",
    "version": 2
   },
   "file_extension": ".py",
   "mimetype": "text/x-python",
   "name": "python",
   "nbconvert_exporter": "python",
   "pygments_lexer": "ipython2",
   "version": "2.7.6"
  }
 },
 "nbformat": 4,
 "nbformat_minor": 5
}
